{
  "nbformat": 4,
  "nbformat_minor": 0,
  "metadata": {
    "colab": {
      "name": "1st_Task.ipynb",
      "provenance": []
    },
    "kernelspec": {
      "name": "python3",
      "display_name": "Python 3"
    },
    "language_info": {
      "name": "python"
    }
  },
  "cells": [
    {
      "cell_type": "markdown",
      "metadata": {
        "id": "ghpmyMyywTNa"
      },
      "source": [
        "# Задание 1"
      ]
    },
    {
      "cell_type": "markdown",
      "metadata": {
        "id": "ClZlGItJmv2b"
      },
      "source": [
        "Изучите результаты теста и сделайте вывод (проверяем гипотезу о равенстве средних). В качестве решения - ноутбук, в котором построено распределение параметра target в группах и проверены нужные критерии."
      ]
    },
    {
      "cell_type": "markdown",
      "metadata": {
        "id": "q-l92W3hwa2J"
      },
      "source": [
        "## Подготовка данных"
      ]
    },
    {
      "cell_type": "code",
      "metadata": {
        "colab": {
          "base_uri": "https://localhost:8080/"
        },
        "id": "6qgBvWQ0q4_k",
        "outputId": "3147d0eb-b480-4411-db28-06e34417b1d3"
      },
      "source": [
        "import numpy as np\n",
        "\n",
        "from scipy import stats\n",
        "from statsmodels.stats import weightstats as stests\n",
        "\n",
        "import pandas as pd\n",
        "import matplotlib.pyplot as plt"
      ],
      "execution_count": 6,
      "outputs": [
        {
          "output_type": "stream",
          "text": [
            "/usr/local/lib/python3.7/dist-packages/statsmodels/tools/_testing.py:19: FutureWarning: pandas.util.testing is deprecated. Use the functions in the public API at pandas.testing instead.\n",
            "  import pandas.util.testing as tm\n"
          ],
          "name": "stderr"
        }
      ]
    },
    {
      "cell_type": "code",
      "metadata": {
        "colab": {
          "base_uri": "https://localhost:8080/"
        },
        "id": "aDLYzNoMms1d",
        "outputId": "91c33f4e-9211-465a-fba6-797983036877"
      },
      "source": [
        "df = pd.read_csv('/content/94690722-cd6c-4eb4-8ad4-d506c1bb4d8b.csv')\n",
        "print(df.columns.values)\n",
        "print()\n",
        "df.info()"
      ],
      "execution_count": 8,
      "outputs": [
        {
          "output_type": "stream",
          "text": [
            "['group' 'client_id' 'target']\n",
            "\n",
            "<class 'pandas.core.frame.DataFrame'>\n",
            "RangeIndex: 1998 entries, 0 to 1997\n",
            "Data columns (total 3 columns):\n",
            " #   Column     Non-Null Count  Dtype  \n",
            "---  ------     --------------  -----  \n",
            " 0   group      1998 non-null   object \n",
            " 1   client_id  1998 non-null   int64  \n",
            " 2   target     1998 non-null   float64\n",
            "dtypes: float64(1), int64(1), object(1)\n",
            "memory usage: 47.0+ KB\n"
          ],
          "name": "stdout"
        }
      ]
    },
    {
      "cell_type": "code",
      "metadata": {
        "colab": {
          "base_uri": "https://localhost:8080/",
          "height": 399
        },
        "id": "DtuNPawfnXM3",
        "outputId": "7e8653fc-1c76-4a96-bf58-72d99a038839"
      },
      "source": [
        "df"
      ],
      "execution_count": 9,
      "outputs": [
        {
          "output_type": "execute_result",
          "data": {
            "text/html": [
              "<div>\n",
              "<style scoped>\n",
              "    .dataframe tbody tr th:only-of-type {\n",
              "        vertical-align: middle;\n",
              "    }\n",
              "\n",
              "    .dataframe tbody tr th {\n",
              "        vertical-align: top;\n",
              "    }\n",
              "\n",
              "    .dataframe thead th {\n",
              "        text-align: right;\n",
              "    }\n",
              "</style>\n",
              "<table border=\"1\" class=\"dataframe\">\n",
              "  <thead>\n",
              "    <tr style=\"text-align: right;\">\n",
              "      <th></th>\n",
              "      <th>group</th>\n",
              "      <th>client_id</th>\n",
              "      <th>target</th>\n",
              "    </tr>\n",
              "  </thead>\n",
              "  <tbody>\n",
              "    <tr>\n",
              "      <th>0</th>\n",
              "      <td>test</td>\n",
              "      <td>1</td>\n",
              "      <td>48.294046</td>\n",
              "    </tr>\n",
              "    <tr>\n",
              "      <th>1</th>\n",
              "      <td>test</td>\n",
              "      <td>2</td>\n",
              "      <td>50.561098</td>\n",
              "    </tr>\n",
              "    <tr>\n",
              "      <th>2</th>\n",
              "      <td>test</td>\n",
              "      <td>3</td>\n",
              "      <td>50.987911</td>\n",
              "    </tr>\n",
              "    <tr>\n",
              "      <th>3</th>\n",
              "      <td>test</td>\n",
              "      <td>4</td>\n",
              "      <td>47.819840</td>\n",
              "    </tr>\n",
              "    <tr>\n",
              "      <th>4</th>\n",
              "      <td>test</td>\n",
              "      <td>5</td>\n",
              "      <td>50.153417</td>\n",
              "    </tr>\n",
              "    <tr>\n",
              "      <th>...</th>\n",
              "      <td>...</td>\n",
              "      <td>...</td>\n",
              "      <td>...</td>\n",
              "    </tr>\n",
              "    <tr>\n",
              "      <th>1993</th>\n",
              "      <td>control</td>\n",
              "      <td>1994</td>\n",
              "      <td>50.207788</td>\n",
              "    </tr>\n",
              "    <tr>\n",
              "      <th>1994</th>\n",
              "      <td>control</td>\n",
              "      <td>1995</td>\n",
              "      <td>51.715447</td>\n",
              "    </tr>\n",
              "    <tr>\n",
              "      <th>1995</th>\n",
              "      <td>control</td>\n",
              "      <td>1996</td>\n",
              "      <td>56.551077</td>\n",
              "    </tr>\n",
              "    <tr>\n",
              "      <th>1996</th>\n",
              "      <td>control</td>\n",
              "      <td>1997</td>\n",
              "      <td>47.178478</td>\n",
              "    </tr>\n",
              "    <tr>\n",
              "      <th>1997</th>\n",
              "      <td>control</td>\n",
              "      <td>1998</td>\n",
              "      <td>49.434447</td>\n",
              "    </tr>\n",
              "  </tbody>\n",
              "</table>\n",
              "<p>1998 rows × 3 columns</p>\n",
              "</div>"
            ],
            "text/plain": [
              "        group  client_id     target\n",
              "0        test          1  48.294046\n",
              "1        test          2  50.561098\n",
              "2        test          3  50.987911\n",
              "3        test          4  47.819840\n",
              "4        test          5  50.153417\n",
              "...       ...        ...        ...\n",
              "1993  control       1994  50.207788\n",
              "1994  control       1995  51.715447\n",
              "1995  control       1996  56.551077\n",
              "1996  control       1997  47.178478\n",
              "1997  control       1998  49.434447\n",
              "\n",
              "[1998 rows x 3 columns]"
            ]
          },
          "metadata": {
            "tags": []
          },
          "execution_count": 9
        }
      ]
    },
    {
      "cell_type": "markdown",
      "metadata": {
        "id": "Ae2UuXg9wgQs"
      },
      "source": [
        "## Проверка на зависимость"
      ]
    },
    {
      "cell_type": "code",
      "metadata": {
        "colab": {
          "base_uri": "https://localhost:8080/"
        },
        "id": "NcZeDXtPrFwS",
        "outputId": "5dde2843-11d3-4e8a-c051-fb34f1669fe8"
      },
      "source": [
        "# test and control groups\n",
        "test = df[df.group == 'test'].target.to_numpy()\n",
        "control = df[df.group == 'control'].target.to_numpy()\n",
        "\n",
        "print(\"test size: \" + str(test.shape) + \" control size: \" + str(control.shape))"
      ],
      "execution_count": 15,
      "outputs": [
        {
          "output_type": "stream",
          "text": [
            "test size: (1010,) control size: (988,)\n"
          ],
          "name": "stdout"
        }
      ]
    },
    {
      "cell_type": "code",
      "metadata": {
        "colab": {
          "base_uri": "https://localhost:8080/"
        },
        "id": "e4S7H8fSrMm4",
        "outputId": "535985d2-b490-44a2-dda9-f51de50e6591"
      },
      "source": [
        "# Is there any depencies?\n",
        "df.client_id.unique().shape"
      ],
      "execution_count": 16,
      "outputs": [
        {
          "output_type": "execute_result",
          "data": {
            "text/plain": [
              "(1998,)"
            ]
          },
          "metadata": {
            "tags": []
          },
          "execution_count": 16
        }
      ]
    },
    {
      "cell_type": "markdown",
      "metadata": {
        "id": "p-DftvVgr8To"
      },
      "source": [
        "Выборки независимы, поскольку число уникальных элементов равно общему числу элементов. "
      ]
    },
    {
      "cell_type": "markdown",
      "metadata": {
        "id": "wxuBXRfGw_FL"
      },
      "source": [
        "## Проверка на нормальность"
      ]
    },
    {
      "cell_type": "markdown",
      "metadata": {
        "id": "n4ZZ7RDExFcB"
      },
      "source": [
        "Построим графики распределения таргета по его частоте появления"
      ]
    },
    {
      "cell_type": "code",
      "metadata": {
        "colab": {
          "base_uri": "https://localhost:8080/",
          "height": 410
        },
        "id": "Z4Fu5vMZr7ho",
        "outputId": "2cc94038-4ead-43fc-bad9-f7de4f1251cf"
      },
      "source": [
        "plt.figure(figsize=(20,10))\n",
        "plt.hist(test, bins=50, density=True, color='gray')\n",
        "plt.legend()\n",
        "plt.title('Distribution of the target variable in the test sample')\n",
        "plt.xlabel('Target')\n",
        "plt.ylabel('Frequency')\n",
        "plt.show()"
      ],
      "execution_count": 28,
      "outputs": [
        {
          "output_type": "stream",
          "text": [
            "No handles with labels found to put in legend.\n"
          ],
          "name": "stderr"
        },
        {
          "output_type": "display_data",
          "data": {
            "image/png": "[encoded data removed]",
            "text/plain": [
              "<Figure size 1440x720 with 1 Axes>"
            ]
          },
          "metadata": {
            "tags": [],
            "needs_background": "light"
          }
        }
      ]
    },
    {
      "cell_type": "code",
      "metadata": {
        "colab": {
          "base_uri": "https://localhost:8080/",
          "height": 411
        },
        "id": "4zpkdacSsN0H",
        "outputId": "04ea4f03-a873-48cf-c39f-9dc5ae6ba482"
      },
      "source": [
        "plt.figure(figsize=(20,10))\n",
        "plt.hist(control, bins=50, density=True, color='gray')\n",
        "plt.legend()\n",
        "plt.title('Distribution of the target variable in the control sample')\n",
        "plt.xlabel('Target')\n",
        "plt.ylabel('Frequency')\n",
        "plt.show()"
      ],
      "execution_count": 29,
      "outputs": [
        {
          "output_type": "stream",
          "text": [
            "No handles with labels found to put in legend.\n"
          ],
          "name": "stderr"
        },
        {
          "output_type": "display_data",
          "data": {
            "image/png": "[encoded data removed]",
            "text/plain": [
              "<Figure size 1440x720 with 1 Axes>"
            ]
          },
          "metadata": {
            "tags": [],
            "needs_background": "light"
          }
        }
      ]
    },
    {
      "cell_type": "code",
      "metadata": {
        "colab": {
          "base_uri": "https://localhost:8080/",
          "height": 392
        },
        "id": "7WqEZwIRsxAr",
        "outputId": "14707fac-78f0-4d63-9c3b-809c5f5ebbcf"
      },
      "source": [
        "plt.figure(figsize=(20,10))\n",
        "plt.hist(test, bins=50, density=True, color='black', label='test')\n",
        "plt.hist(control, bins=50, density=True, color='yellow', label='control')\n",
        "plt.legend()\n",
        "plt.title('Distribution of the target variable in the test and control samples')\n",
        "plt.xlabel('Target')\n",
        "plt.ylabel('Frequency')\n",
        "plt.show()"
      ],
      "execution_count": 31,
      "outputs": [
        {
          "output_type": "display_data",
          "data": {
            "image/png": "[encoded data removed]",
            "text/plain": [
              "<Figure size 1440x720 with 1 Axes>"
            ]
          },
          "metadata": {
            "tags": [],
            "needs_background": "light"
          }
        }
      ]
    },
    {
      "cell_type": "markdown",
      "metadata": {
        "id": "9h0ntZegt2OZ"
      },
      "source": [
        "Распределения близки к нормальным, есть смысл двигаться дальше"
      ]
    },
    {
      "cell_type": "markdown",
      "metadata": {
        "id": "pAgvuIYRuLTy"
      },
      "source": [
        "Проверим на нормлаьность с помощью построения Q-Q графика"
      ]
    },
    {
      "cell_type": "code",
      "metadata": {
        "colab": {
          "base_uri": "https://localhost:8080/",
          "height": 343
        },
        "id": "Tp8rPJqStpMB",
        "outputId": "6aa26484-6545-4aab-8ab3-63c1719f7bb2"
      },
      "source": [
        "plt.figure(figsize=(20,10))\n",
        "plt.subplot(2,2,1)\n",
        "stats.probplot(control, dist=\"norm\", plot=plt)\n",
        "plt.title('Control sample')"
      ],
      "execution_count": 36,
      "outputs": [
        {
          "output_type": "execute_result",
          "data": {
            "text/plain": [
              "Text(0.5, 1.0, 'Control sample')"
            ]
          },
          "metadata": {
            "tags": []
          },
          "execution_count": 36
        },
        {
          "output_type": "display_data",
          "data": {
            "image/png": "[encoded data removed]",
            "text/plain": [
              "<Figure size 1440x720 with 1 Axes>"
            ]
          },
          "metadata": {
            "tags": [],
            "needs_background": "light"
          }
        }
      ]
    },
    {
      "cell_type": "code",
      "metadata": {
        "colab": {
          "base_uri": "https://localhost:8080/",
          "height": 325
        },
        "id": "adulid8GuQWk",
        "outputId": "c94d18da-4923-4a4b-e56a-9df17ad56368"
      },
      "source": [
        "plt.figure(figsize=(20,10))\n",
        "plt.subplot(2,2,2)\n",
        "stats.probplot(test, dist=\"norm\", plot=plt)\n",
        "plt.title('Test sample')\n",
        "plt.show()"
      ],
      "execution_count": 37,
      "outputs": [
        {
          "output_type": "display_data",
          "data": {
            "image/png": "[encoded data removed]",
            "text/plain": [
              "<Figure size 1440x720 with 1 Axes>"
            ]
          },
          "metadata": {
            "tags": [],
            "needs_background": "light"
          }
        }
      ]
    },
    {
      "cell_type": "markdown",
      "metadata": {
        "id": "YiBBtQrtuva5"
      },
      "source": [
        "Очевидно, что выборки взяты из нормального распределения"
      ]
    },
    {
      "cell_type": "markdown",
      "metadata": {
        "id": "wvl_iei6xhh5"
      },
      "source": [
        "## Проверим на z-критерий (двусторонний)"
      ]
    },
    {
      "cell_type": "code",
      "metadata": {
        "colab": {
          "base_uri": "https://localhost:8080/"
        },
        "id": "WeEnQxHTuQ5v",
        "outputId": "fc4b360f-1187-46ab-d891-72741f85eaa4"
      },
      "source": [
        "# z criteria\n",
        "a = control.mean() - test.mean()\n",
        "b = np.sqrt((control.var(ddof=1) / control.shape[0]) + (test.var(ddof=1) / test.shape[0]))\n",
        "z = a/b\n",
        "\n",
        "# p value\n",
        "p = 2 * (1 - stats.norm.cdf(abs(z)))\n",
        "\n",
        "print('p-value = ', p)\n",
        "print('Z-criteria = ', round(z, 2))"
      ],
      "execution_count": 40,
      "outputs": [
        {
          "output_type": "stream",
          "text": [
            "p-value =  0.0\n",
            "Z-criteria =  9.88\n"
          ],
          "name": "stdout"
        }
      ]
    },
    {
      "cell_type": "markdown",
      "metadata": {
        "id": "An-d99yz18pv"
      },
      "source": [
        "Отвергаем гипотезу :("
      ]
    }
  ]
}