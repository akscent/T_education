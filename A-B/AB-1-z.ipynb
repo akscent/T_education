{
  "nbformat": 4,
  "nbformat_minor": 0,
  "metadata": {
    "colab": {
      "name": "3_Task.ipynb",
      "provenance": []
    },
    "kernelspec": {
      "name": "python3",
      "display_name": "Python 3"
    },
    "language_info": {
      "name": "python"
    }
  },
  "cells": [
    {
      "cell_type": "markdown",
      "metadata": {
        "id": "ghpmyMyywTNa"
      },
      "source": [
        "# Задание 3"
      ]
    },
    {
      "cell_type": "markdown",
      "metadata": {
        "id": "ClZlGItJmv2b"
      },
      "source": [
        "Изучите результаты теста и сделайте вывод , увеличилась конверсия или нет. В качестве решения - ноутбук, в котором построено распределение параметра в группах и проверены нужные критерии."
      ]
    },
    {
      "cell_type": "markdown",
      "metadata": {
        "id": "q-l92W3hwa2J"
      },
      "source": [
        "## Подготовка данных"
      ]
    },
    {
      "cell_type": "code",
      "metadata": {
        "id": "6qgBvWQ0q4_k"
      },
      "source": [
        "import numpy as np\n",
        "\n",
        "from scipy import stats\n",
        "from statsmodels.stats import weightstats as stests\n",
        "\n",
        "import pandas as pd\n",
        "import matplotlib.pyplot as plt"
      ],
      "execution_count": 14,
      "outputs": []
    },
    {
      "cell_type": "code",
      "metadata": {
        "colab": {
          "base_uri": "https://localhost:8080/"
        },
        "id": "aDLYzNoMms1d",
        "outputId": "aa1fafa6-df3a-4df7-c498-553cc8a26b7b"
      },
      "source": [
        "df = pd.read_csv('/content/91bb356a-000f-46b8-9777-861833a70faa.csv')\n",
        "print(df.columns.values)\n",
        "print()\n",
        "df.info()"
      ],
      "execution_count": 17,
      "outputs": [
        {
          "output_type": "stream",
          "text": [
            "['group' 'client_id' 'click_flg']\n",
            "\n",
            "<class 'pandas.core.frame.DataFrame'>\n",
            "RangeIndex: 20033 entries, 0 to 20032\n",
            "Data columns (total 3 columns):\n",
            " #   Column     Non-Null Count  Dtype \n",
            "---  ------     --------------  ----- \n",
            " 0   group      20033 non-null  object\n",
            " 1   client_id  20033 non-null  int64 \n",
            " 2   click_flg  20033 non-null  int64 \n",
            "dtypes: int64(2), object(1)\n",
            "memory usage: 469.6+ KB\n"
          ],
          "name": "stdout"
        }
      ]
    },
    {
      "cell_type": "code",
      "metadata": {
        "colab": {
          "base_uri": "https://localhost:8080/",
          "height": 399
        },
        "id": "DtuNPawfnXM3",
        "outputId": "2099bb6c-a630-4833-8962-9f654a0038c0"
      },
      "source": [
        "df"
      ],
      "execution_count": 18,
      "outputs": [
        {
          "output_type": "execute_result",
          "data": {
            "text/html": [
              "<div>\n",
              "<style scoped>\n",
              "    .dataframe tbody tr th:only-of-type {\n",
              "        vertical-align: middle;\n",
              "    }\n",
              "\n",
              "    .dataframe tbody tr th {\n",
              "        vertical-align: top;\n",
              "    }\n",
              "\n",
              "    .dataframe thead th {\n",
              "        text-align: right;\n",
              "    }\n",
              "</style>\n",
              "<table border=\"1\" class=\"dataframe\">\n",
              "  <thead>\n",
              "    <tr style=\"text-align: right;\">\n",
              "      <th></th>\n",
              "      <th>group</th>\n",
              "      <th>client_id</th>\n",
              "      <th>click_flg</th>\n",
              "    </tr>\n",
              "  </thead>\n",
              "  <tbody>\n",
              "    <tr>\n",
              "      <th>0</th>\n",
              "      <td>test</td>\n",
              "      <td>1</td>\n",
              "      <td>1</td>\n",
              "    </tr>\n",
              "    <tr>\n",
              "      <th>1</th>\n",
              "      <td>test</td>\n",
              "      <td>2</td>\n",
              "      <td>0</td>\n",
              "    </tr>\n",
              "    <tr>\n",
              "      <th>2</th>\n",
              "      <td>test</td>\n",
              "      <td>3</td>\n",
              "      <td>0</td>\n",
              "    </tr>\n",
              "    <tr>\n",
              "      <th>3</th>\n",
              "      <td>test</td>\n",
              "      <td>4</td>\n",
              "      <td>1</td>\n",
              "    </tr>\n",
              "    <tr>\n",
              "      <th>4</th>\n",
              "      <td>test</td>\n",
              "      <td>5</td>\n",
              "      <td>1</td>\n",
              "    </tr>\n",
              "    <tr>\n",
              "      <th>...</th>\n",
              "      <td>...</td>\n",
              "      <td>...</td>\n",
              "      <td>...</td>\n",
              "    </tr>\n",
              "    <tr>\n",
              "      <th>20028</th>\n",
              "      <td>control</td>\n",
              "      <td>20029</td>\n",
              "      <td>0</td>\n",
              "    </tr>\n",
              "    <tr>\n",
              "      <th>20029</th>\n",
              "      <td>control</td>\n",
              "      <td>20030</td>\n",
              "      <td>1</td>\n",
              "    </tr>\n",
              "    <tr>\n",
              "      <th>20030</th>\n",
              "      <td>control</td>\n",
              "      <td>20031</td>\n",
              "      <td>1</td>\n",
              "    </tr>\n",
              "    <tr>\n",
              "      <th>20031</th>\n",
              "      <td>control</td>\n",
              "      <td>20032</td>\n",
              "      <td>0</td>\n",
              "    </tr>\n",
              "    <tr>\n",
              "      <th>20032</th>\n",
              "      <td>control</td>\n",
              "      <td>20033</td>\n",
              "      <td>0</td>\n",
              "    </tr>\n",
              "  </tbody>\n",
              "</table>\n",
              "<p>20033 rows × 3 columns</p>\n",
              "</div>"
            ],
            "text/plain": [
              "         group  client_id  click_flg\n",
              "0         test          1          1\n",
              "1         test          2          0\n",
              "2         test          3          0\n",
              "3         test          4          1\n",
              "4         test          5          1\n",
              "...        ...        ...        ...\n",
              "20028  control      20029          0\n",
              "20029  control      20030          1\n",
              "20030  control      20031          1\n",
              "20031  control      20032          0\n",
              "20032  control      20033          0\n",
              "\n",
              "[20033 rows x 3 columns]"
            ]
          },
          "metadata": {
            "tags": []
          },
          "execution_count": 18
        }
      ]
    },
    {
      "cell_type": "markdown",
      "metadata": {
        "id": "Ae2UuXg9wgQs"
      },
      "source": [
        "## Проверка на зависимость"
      ]
    },
    {
      "cell_type": "code",
      "metadata": {
        "colab": {
          "base_uri": "https://localhost:8080/"
        },
        "id": "NcZeDXtPrFwS",
        "outputId": "b2120791-f976-46e8-c540-b50c40507e89"
      },
      "source": [
        "# test and control groups\n",
        "test = df[df.group == 'test'].click_flg.to_numpy()\n",
        "control = df[df.group == 'control'].click_flg.to_numpy()\n",
        "\n",
        "print(\"test size: \" + str(test.shape) + \" control size: \" + str(control.shape))"
      ],
      "execution_count": 19,
      "outputs": [
        {
          "output_type": "stream",
          "text": [
            "test size: (10023,) control size: (10010,)\n"
          ],
          "name": "stdout"
        }
      ]
    },
    {
      "cell_type": "code",
      "metadata": {
        "colab": {
          "base_uri": "https://localhost:8080/"
        },
        "id": "e4S7H8fSrMm4",
        "outputId": "e4552481-cd04-4d3c-df7a-7c18b75eeb89"
      },
      "source": [
        "# Is there any depencies?\n",
        "df.client_id.unique().shape"
      ],
      "execution_count": 20,
      "outputs": [
        {
          "output_type": "execute_result",
          "data": {
            "text/plain": [
              "(20033,)"
            ]
          },
          "metadata": {
            "tags": []
          },
          "execution_count": 20
        }
      ]
    },
    {
      "cell_type": "markdown",
      "metadata": {
        "id": "p-DftvVgr8To"
      },
      "source": [
        "Выборки независимы, поскольку число уникальных элементов равно общему числу элементов. "
      ]
    },
    {
      "cell_type": "markdown",
      "metadata": {
        "id": "wxuBXRfGw_FL"
      },
      "source": [
        "## Проверка на нормальность"
      ]
    },
    {
      "cell_type": "markdown",
      "metadata": {
        "id": "n4ZZ7RDExFcB"
      },
      "source": [
        "Построим графики распределения таргета по его частоте появления"
      ]
    },
    {
      "cell_type": "code",
      "metadata": {
        "colab": {
          "base_uri": "https://localhost:8080/",
          "height": 417
        },
        "id": "Z4Fu5vMZr7ho",
        "outputId": "f28438a5-90fe-4d59-c846-06bf2eb890b7"
      },
      "source": [
        "plt.figure(figsize=(20,10))\n",
        "plt.hist(test, bins=10, density=True, color='gray')\n",
        "plt.legend()\n",
        "plt.title('Distribution of the target variable in the test sample')\n",
        "plt.xlabel('Target')\n",
        "plt.ylabel('Frequency')\n",
        "plt.show()"
      ],
      "execution_count": 22,
      "outputs": [
        {
          "output_type": "stream",
          "text": [
            "No handles with labels found to put in legend.\n"
          ],
          "name": "stderr"
        },
        {
          "output_type": "display_data",
          "data": {
            "image/png": "[encoded data removed]",
            "text/plain": [
              "<Figure size 1440x720 with 1 Axes>"
            ]
          },
          "metadata": {
            "tags": [],
            "needs_background": "light"
          }
        }
      ]
    },
    {
      "cell_type": "code",
      "metadata": {
        "colab": {
          "base_uri": "https://localhost:8080/",
          "height": 417
        },
        "id": "4zpkdacSsN0H",
        "outputId": "5f361184-e1d5-42c5-e2e5-4020e3bc3657"
      },
      "source": [
        "plt.figure(figsize=(20,10))\n",
        "plt.hist(control, bins=10, density=True, color='gray')\n",
        "plt.legend()\n",
        "plt.title('Distribution of the target variable in the control sample')\n",
        "plt.xlabel('Target')\n",
        "plt.ylabel('Frequency')\n",
        "plt.show()"
      ],
      "execution_count": 23,
      "outputs": [
        {
          "output_type": "stream",
          "text": [
            "No handles with labels found to put in legend.\n"
          ],
          "name": "stderr"
        },
        {
          "output_type": "display_data",
          "data": {
            "image/png": "[encoded data removed]",
            "text/plain": [
              "<Figure size 1440x720 with 1 Axes>"
            ]
          },
          "metadata": {
            "tags": [],
            "needs_background": "light"
          }
        }
      ]
    },
    {
      "cell_type": "code",
      "metadata": {
        "colab": {
          "base_uri": "https://localhost:8080/",
          "height": 399
        },
        "id": "7WqEZwIRsxAr",
        "outputId": "914f5321-78fa-45f8-abac-7d32ef7c33ff"
      },
      "source": [
        "plt.figure(figsize=(20,10))\n",
        "plt.hist(test, bins=10, density=True, color='black', label='test')\n",
        "plt.hist(control, bins=10, density=True, color='yellow', label='control')\n",
        "plt.legend()\n",
        "plt.title('Distribution of the target variable in the test and control samples')\n",
        "plt.xlabel('Target')\n",
        "plt.ylabel('Frequency')\n",
        "plt.show()"
      ],
      "execution_count": 25,
      "outputs": [
        {
          "output_type": "display_data",
          "data": {
            "image/png": "[encoded data removed]",
            "text/plain": [
              "<Figure size 1440x720 with 1 Axes>"
            ]
          },
          "metadata": {
            "tags": [],
            "needs_background": "light"
          }
        }
      ]
    },
    {
      "cell_type": "markdown",
      "metadata": {
        "id": "9h0ntZegt2OZ"
      },
      "source": [
        "Распределения похожи"
      ]
    },
    {
      "cell_type": "markdown",
      "metadata": {
        "id": "wvl_iei6xhh5"
      },
      "source": [
        "## Проверим Z критерий"
      ]
    },
    {
      "cell_type": "code",
      "metadata": {
        "colab": {
          "base_uri": "https://localhost:8080/"
        },
        "id": "WeEnQxHTuQ5v",
        "outputId": "3c074bf6-8c93-4be5-a97b-68db7f8863a5"
      },
      "source": [
        "n1 = control.shape[0]\n",
        "n2 = test.shape[0]\n",
        "\n",
        "p1 = np.sum(control) / n1\n",
        "p2 = np.sum(test) / n2\n",
        "\n",
        "P = (np.sum(control) + np.sum(test))/(n1 + n2)\n",
        "Z = (p1 - p2)/np.sqrt(P*(1 - P)*(1/n1 + 1/n2))\n",
        "\n",
        "p = 1 - stats.norm.cdf(Z)\n",
        "print('p: ', p)"
      ],
      "execution_count": 27,
      "outputs": [
        {
          "output_type": "stream",
          "text": [
            "p:  0.0047270250062207975\n"
          ],
          "name": "stdout"
        }
      ]
    },
    {
      "cell_type": "markdown",
      "metadata": {
        "id": "An-d99yz18pv"
      },
      "source": [
        "Конверсия увеличилась"
      ]
    }
  ]
}