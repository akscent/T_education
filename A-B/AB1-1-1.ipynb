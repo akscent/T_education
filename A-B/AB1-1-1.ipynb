{
  "nbformat": 4,
  "nbformat_minor": 0,
  "metadata": {
    "colab": {
      "name": "2st_Task.ipynb",
      "provenance": []
    },
    "kernelspec": {
      "name": "python3",
      "display_name": "Python 3"
    },
    "language_info": {
      "name": "python"
    }
  },
  "cells": [
    {
      "cell_type": "markdown",
      "metadata": {
        "id": "ghpmyMyywTNa"
      },
      "source": [
        "# Задание 2"
      ]
    },
    {
      "cell_type": "markdown",
      "metadata": {
        "id": "ClZlGItJmv2b"
      },
      "source": [
        "Изучите результаты теста и сделайте вывод, увеличилась сумма чека или нет. В качестве решения - ноутбук, в котором построено распределение параметра в группах и проверены нужные критерии."
      ]
    },
    {
      "cell_type": "markdown",
      "metadata": {
        "id": "q-l92W3hwa2J"
      },
      "source": [
        "## Подготовка данных"
      ]
    },
    {
      "cell_type": "code",
      "metadata": {
        "colab": {
          "base_uri": "https://localhost:8080/"
        },
        "id": "6qgBvWQ0q4_k",
        "outputId": "fe5163f4-e386-44b2-eb31-6dc9fec01a61"
      },
      "source": [
        "import numpy as np\n",
        "\n",
        "from scipy import stats\n",
        "from statsmodels.stats import weightstats as stests\n",
        "\n",
        "import pandas as pd\n",
        "import matplotlib.pyplot as plt"
      ],
      "execution_count": 1,
      "outputs": [
        {
          "output_type": "stream",
          "text": [
            "/usr/local/lib/python3.7/dist-packages/statsmodels/tools/_testing.py:19: FutureWarning: pandas.util.testing is deprecated. Use the functions in the public API at pandas.testing instead.\n",
            "  import pandas.util.testing as tm\n"
          ],
          "name": "stderr"
        }
      ]
    },
    {
      "cell_type": "code",
      "metadata": {
        "colab": {
          "base_uri": "https://localhost:8080/"
        },
        "id": "aDLYzNoMms1d",
        "outputId": "1d582271-8818-403e-a907-277d21a73519"
      },
      "source": [
        "df = pd.read_csv('/content/dde42b1a-a0a5-4055-8fea-38ae97cb3c41.csv')\n",
        "print(df.columns.values)\n",
        "print()\n",
        "df.info()"
      ],
      "execution_count": 2,
      "outputs": [
        {
          "output_type": "stream",
          "text": [
            "['group' 'client_id' 'avg_sum']\n",
            "\n",
            "<class 'pandas.core.frame.DataFrame'>\n",
            "RangeIndex: 600 entries, 0 to 599\n",
            "Data columns (total 3 columns):\n",
            " #   Column     Non-Null Count  Dtype  \n",
            "---  ------     --------------  -----  \n",
            " 0   group      600 non-null    object \n",
            " 1   client_id  600 non-null    int64  \n",
            " 2   avg_sum    600 non-null    float64\n",
            "dtypes: float64(1), int64(1), object(1)\n",
            "memory usage: 14.2+ KB\n"
          ],
          "name": "stdout"
        }
      ]
    },
    {
      "cell_type": "code",
      "metadata": {
        "colab": {
          "base_uri": "https://localhost:8080/",
          "height": 399
        },
        "id": "DtuNPawfnXM3",
        "outputId": "e33445bb-82c7-4aef-9365-04a5dede23b8"
      },
      "source": [
        "df"
      ],
      "execution_count": 3,
      "outputs": [
        {
          "output_type": "execute_result",
          "data": {
            "text/html": [
              "<div>\n",
              "<style scoped>\n",
              "    .dataframe tbody tr th:only-of-type {\n",
              "        vertical-align: middle;\n",
              "    }\n",
              "\n",
              "    .dataframe tbody tr th {\n",
              "        vertical-align: top;\n",
              "    }\n",
              "\n",
              "    .dataframe thead th {\n",
              "        text-align: right;\n",
              "    }\n",
              "</style>\n",
              "<table border=\"1\" class=\"dataframe\">\n",
              "  <thead>\n",
              "    <tr style=\"text-align: right;\">\n",
              "      <th></th>\n",
              "      <th>group</th>\n",
              "      <th>client_id</th>\n",
              "      <th>avg_sum</th>\n",
              "    </tr>\n",
              "  </thead>\n",
              "  <tbody>\n",
              "    <tr>\n",
              "      <th>0</th>\n",
              "      <td>test</td>\n",
              "      <td>1</td>\n",
              "      <td>156.686451</td>\n",
              "    </tr>\n",
              "    <tr>\n",
              "      <th>1</th>\n",
              "      <td>test</td>\n",
              "      <td>2</td>\n",
              "      <td>342.625859</td>\n",
              "    </tr>\n",
              "    <tr>\n",
              "      <th>2</th>\n",
              "      <td>test</td>\n",
              "      <td>3</td>\n",
              "      <td>79.712120</td>\n",
              "    </tr>\n",
              "    <tr>\n",
              "      <th>3</th>\n",
              "      <td>test</td>\n",
              "      <td>4</td>\n",
              "      <td>493.110807</td>\n",
              "    </tr>\n",
              "    <tr>\n",
              "      <th>4</th>\n",
              "      <td>test</td>\n",
              "      <td>5</td>\n",
              "      <td>124.135016</td>\n",
              "    </tr>\n",
              "    <tr>\n",
              "      <th>...</th>\n",
              "      <td>...</td>\n",
              "      <td>...</td>\n",
              "      <td>...</td>\n",
              "    </tr>\n",
              "    <tr>\n",
              "      <th>595</th>\n",
              "      <td>control</td>\n",
              "      <td>596</td>\n",
              "      <td>209.075972</td>\n",
              "    </tr>\n",
              "    <tr>\n",
              "      <th>596</th>\n",
              "      <td>control</td>\n",
              "      <td>597</td>\n",
              "      <td>57.990291</td>\n",
              "    </tr>\n",
              "    <tr>\n",
              "      <th>597</th>\n",
              "      <td>control</td>\n",
              "      <td>598</td>\n",
              "      <td>42.577037</td>\n",
              "    </tr>\n",
              "    <tr>\n",
              "      <th>598</th>\n",
              "      <td>control</td>\n",
              "      <td>599</td>\n",
              "      <td>178.320097</td>\n",
              "    </tr>\n",
              "    <tr>\n",
              "      <th>599</th>\n",
              "      <td>control</td>\n",
              "      <td>600</td>\n",
              "      <td>78.746824</td>\n",
              "    </tr>\n",
              "  </tbody>\n",
              "</table>\n",
              "<p>600 rows × 3 columns</p>\n",
              "</div>"
            ],
            "text/plain": [
              "       group  client_id     avg_sum\n",
              "0       test          1  156.686451\n",
              "1       test          2  342.625859\n",
              "2       test          3   79.712120\n",
              "3       test          4  493.110807\n",
              "4       test          5  124.135016\n",
              "..       ...        ...         ...\n",
              "595  control        596  209.075972\n",
              "596  control        597   57.990291\n",
              "597  control        598   42.577037\n",
              "598  control        599  178.320097\n",
              "599  control        600   78.746824\n",
              "\n",
              "[600 rows x 3 columns]"
            ]
          },
          "metadata": {
            "tags": []
          },
          "execution_count": 3
        }
      ]
    },
    {
      "cell_type": "markdown",
      "metadata": {
        "id": "Ae2UuXg9wgQs"
      },
      "source": [
        "## Проверка на зависимость"
      ]
    },
    {
      "cell_type": "code",
      "metadata": {
        "colab": {
          "base_uri": "https://localhost:8080/"
        },
        "id": "NcZeDXtPrFwS",
        "outputId": "599e0379-ca30-45ec-8054-c7a8377bc0c3"
      },
      "source": [
        "# test and control groups\n",
        "test = df[df.group == 'test'].avg_sum.to_numpy()\n",
        "control = df[df.group == 'control'].avg_sum.to_numpy()\n",
        "\n",
        "print(\"test size: \" + str(test.shape) + \" control size: \" + str(control.shape))"
      ],
      "execution_count": 5,
      "outputs": [
        {
          "output_type": "stream",
          "text": [
            "test size: (306,) control size: (294,)\n"
          ],
          "name": "stdout"
        }
      ]
    },
    {
      "cell_type": "code",
      "metadata": {
        "colab": {
          "base_uri": "https://localhost:8080/"
        },
        "id": "e4S7H8fSrMm4",
        "outputId": "33d32350-ebfe-45bd-adb1-b3f52b79ce4d"
      },
      "source": [
        "# Is there any depencies?\n",
        "df.client_id.unique().shape"
      ],
      "execution_count": 6,
      "outputs": [
        {
          "output_type": "execute_result",
          "data": {
            "text/plain": [
              "(600,)"
            ]
          },
          "metadata": {
            "tags": []
          },
          "execution_count": 6
        }
      ]
    },
    {
      "cell_type": "markdown",
      "metadata": {
        "id": "p-DftvVgr8To"
      },
      "source": [
        "Выборки независимы, поскольку число уникальных элементов равно общему числу элементов. "
      ]
    },
    {
      "cell_type": "markdown",
      "metadata": {
        "id": "wxuBXRfGw_FL"
      },
      "source": [
        "## Проверка на нормальность"
      ]
    },
    {
      "cell_type": "markdown",
      "metadata": {
        "id": "n4ZZ7RDExFcB"
      },
      "source": [
        "Построим графики распределения таргета по его частоте появления"
      ]
    },
    {
      "cell_type": "code",
      "metadata": {
        "colab": {
          "base_uri": "https://localhost:8080/",
          "height": 410
        },
        "id": "Z4Fu5vMZr7ho",
        "outputId": "f037b1a9-1eb6-4244-a5d7-d8beb3794746"
      },
      "source": [
        "plt.figure(figsize=(20,10))\n",
        "plt.hist(test, bins=50, density=True, color='gray')\n",
        "plt.legend()\n",
        "plt.title('Distribution of the target variable in the test sample')\n",
        "plt.xlabel('Target')\n",
        "plt.ylabel('Frequency')\n",
        "plt.show()"
      ],
      "execution_count": 7,
      "outputs": [
        {
          "output_type": "stream",
          "text": [
            "No handles with labels found to put in legend.\n"
          ],
          "name": "stderr"
        },
        {
          "output_type": "display_data",
          "data": {
            "image/png": "[encoded data removed]",
            "text/plain": [
              "<Figure size 1440x720 with 1 Axes>"
            ]
          },
          "metadata": {
            "tags": [],
            "needs_background": "light"
          }
        }
      ]
    },
    {
      "cell_type": "code",
      "metadata": {
        "colab": {
          "base_uri": "https://localhost:8080/",
          "height": 410
        },
        "id": "4zpkdacSsN0H",
        "outputId": "c3ff3584-7cc0-4ea1-93a1-3d073149b3f6"
      },
      "source": [
        "plt.figure(figsize=(20,10))\n",
        "plt.hist(control, bins=50, density=True, color='gray')\n",
        "plt.legend()\n",
        "plt.title('Distribution of the target variable in the control sample')\n",
        "plt.xlabel('Target')\n",
        "plt.ylabel('Frequency')\n",
        "plt.show()"
      ],
      "execution_count": 8,
      "outputs": [
        {
          "output_type": "stream",
          "text": [
            "No handles with labels found to put in legend.\n"
          ],
          "name": "stderr"
        },
        {
          "output_type": "display_data",
          "data": {
            "image/png": "[encoded data removed]",
            "text/plain": [
              "<Figure size 1440x720 with 1 Axes>"
            ]
          },
          "metadata": {
            "tags": [],
            "needs_background": "light"
          }
        }
      ]
    },
    {
      "cell_type": "code",
      "metadata": {
        "colab": {
          "base_uri": "https://localhost:8080/",
          "height": 392
        },
        "id": "7WqEZwIRsxAr",
        "outputId": "d4c5908d-d51f-4df7-8760-d591ea0b0ea3"
      },
      "source": [
        "plt.figure(figsize=(20,10))\n",
        "plt.hist(test, bins=50, density=True, color='black', label='test')\n",
        "plt.hist(control, bins=50, density=True, color='yellow', label='control')\n",
        "plt.legend()\n",
        "plt.title('Distribution of the target variable in the test and control samples')\n",
        "plt.xlabel('Target')\n",
        "plt.ylabel('Frequency')\n",
        "plt.show()"
      ],
      "execution_count": 9,
      "outputs": [
        {
          "output_type": "display_data",
          "data": {
            "image/png": "[encoded data removed]",
            "text/plain": [
              "<Figure size 1440x720 with 1 Axes>"
            ]
          },
          "metadata": {
            "tags": [],
            "needs_background": "light"
          }
        }
      ]
    },
    {
      "cell_type": "markdown",
      "metadata": {
        "id": "9h0ntZegt2OZ"
      },
      "source": [
        "Распределения близки к экспоненциальным, есть смысл двигаться дальше"
      ]
    },
    {
      "cell_type": "markdown",
      "metadata": {
        "id": "pAgvuIYRuLTy"
      },
      "source": [
        "Проверим на нормальность с помощью построения Q-Q графика"
      ]
    },
    {
      "cell_type": "code",
      "metadata": {
        "colab": {
          "base_uri": "https://localhost:8080/",
          "height": 343
        },
        "id": "Tp8rPJqStpMB",
        "outputId": "d09919fd-dd26-408f-a1a2-e125389fda99"
      },
      "source": [
        "plt.figure(figsize=(20,10))\n",
        "plt.subplot(2,2,1)\n",
        "stats.probplot(control, dist=\"norm\", plot=plt)\n",
        "plt.title('Control sample')"
      ],
      "execution_count": 10,
      "outputs": [
        {
          "output_type": "execute_result",
          "data": {
            "text/plain": [
              "Text(0.5, 1.0, 'Control sample')"
            ]
          },
          "metadata": {
            "tags": []
          },
          "execution_count": 10
        },
        {
          "output_type": "display_data",
          "data": {
            "image/png": "[encoded data removed]",
            "text/plain": [
              "<Figure size 1440x720 with 1 Axes>"
            ]
          },
          "metadata": {
            "tags": [],
            "needs_background": "light"
          }
        }
      ]
    },
    {
      "cell_type": "code",
      "metadata": {
        "colab": {
          "base_uri": "https://localhost:8080/",
          "height": 325
        },
        "id": "adulid8GuQWk",
        "outputId": "ea0979e7-7732-457a-d34c-e6caebe6f876"
      },
      "source": [
        "plt.figure(figsize=(20,10))\n",
        "plt.subplot(2,2,2)\n",
        "stats.probplot(test, dist=\"norm\", plot=plt)\n",
        "plt.title('Test sample')\n",
        "plt.show()"
      ],
      "execution_count": 11,
      "outputs": [
        {
          "output_type": "display_data",
          "data": {
            "image/png": "[encoded data removed]",
            "text/plain": [
              "<Figure size 1440x720 with 1 Axes>"
            ]
          },
          "metadata": {
            "tags": [],
            "needs_background": "light"
          }
        }
      ]
    },
    {
      "cell_type": "markdown",
      "metadata": {
        "id": "YiBBtQrtuva5"
      },
      "source": [
        "Сделаем тест Колмогорова-Смирнова"
      ]
    },
    {
      "cell_type": "code",
      "metadata": {
        "colab": {
          "base_uri": "https://localhost:8080/"
        },
        "id": "1KcU7Zxz5l3s",
        "outputId": "559fd1c7-eebc-4d9f-f198-61deeae2a3f3"
      },
      "source": [
        "print(stats.kstest(control, 'norm'))\n",
        "print(stats.kstest(test, 'norm'))"
      ],
      "execution_count": 12,
      "outputs": [
        {
          "output_type": "stream",
          "text": [
            "KstestResult(statistic=0.9960423069313241, pvalue=0.0)\n",
            "KstestResult(statistic=0.9916670995681639, pvalue=0.0)\n"
          ],
          "name": "stdout"
        }
      ]
    },
    {
      "cell_type": "markdown",
      "metadata": {
        "id": "qZxFud5z54Hw"
      },
      "source": [
        "Распределения не нормальные"
      ]
    },
    {
      "cell_type": "markdown",
      "metadata": {
        "id": "wvl_iei6xhh5"
      },
      "source": [
        "## Проверим ранговый критерий Манна-Уитни"
      ]
    },
    {
      "cell_type": "code",
      "metadata": {
        "colab": {
          "base_uri": "https://localhost:8080/"
        },
        "id": "WeEnQxHTuQ5v",
        "outputId": "6f51d473-079e-4567-bf48-adc6145fe588"
      },
      "source": [
        "stats.mannwhitneyu(test, control, alternative ='greater')"
      ],
      "execution_count": 13,
      "outputs": [
        {
          "output_type": "execute_result",
          "data": {
            "text/plain": [
              "MannwhitneyuResult(statistic=50943.0, pvalue=0.0024922812779452318)"
            ]
          },
          "metadata": {
            "tags": []
          },
          "execution_count": 13
        }
      ]
    },
    {
      "cell_type": "markdown",
      "metadata": {
        "id": "An-d99yz18pv"
      },
      "source": [
        "Выборки относятся к одному распределению. Сумма чека увеличилась"
      ]
    }
  ]
}