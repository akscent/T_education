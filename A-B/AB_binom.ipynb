{
  "nbformat": 4,
  "nbformat_minor": 0,
  "metadata": {
    "colab": {
      "name": "AB_tests_2.ipynb",
      "provenance": []
    },
    "kernelspec": {
      "name": "python3",
      "display_name": "Python 3"
    },
    "language_info": {
      "name": "python"
    }
  },
  "cells": [
    {
      "cell_type": "markdown",
      "metadata": {
        "id": "xV32icKK9eaM"
      },
      "source": [
        "# Задание 3\n",
        "\n",
        "У вас тот же сайт, на котором вы решили провести АБ-тест.\n",
        "\n",
        "\n",
        "Взяли выборку, поделили примерно пополам. На тестовой группе предлагаем клиенту скидку в 20%. Гипотеза заключается в том, что скидка увеличивает конверсию в продажу.\n",
        "\n",
        "\n",
        "Результаты получились следующими:\n",
        "\n",
        "Контроль: из 16500 наблюдений 1599 покупок\n",
        "\n",
        "Тест: из 15903 наблюдений 1580 покупок\n",
        "\n",
        "\n",
        "Мы уверены, что конверсия на тесте должна быть не хуже контроля и ожидаем уровень значимости alpha=0.05\n",
        "\n",
        "\n",
        "Статзначимый ли результат теста?"
      ]
    },
    {
      "cell_type": "markdown",
      "metadata": {
        "id": "oie4zx22BsBm"
      },
      "source": [
        "На основании этого делаем вывод, что конверсия действительно упала: Zтабл > Zрасч (левосторонний критерий)"
      ]
    },
    {
      "cell_type": "markdown",
      "metadata": {
        "id": "gvI98Q5DDvs-"
      },
      "source": [
        "Сделаем биномиальный тест:"
      ]
    },
    {
      "cell_type": "code",
      "metadata": {
        "colab": {
          "base_uri": "https://localhost:8080/"
        },
        "id": "wyt5SgxiBrM9",
        "outputId": "116af34a-1cf2-4a24-94b8-24a4fb0c5ebb"
      },
      "source": [
        "from scipy import stats\n",
        "\n",
        "# all/sales\n",
        "control = [16500, 1599]\n",
        "test = [15903, 1580]\n",
        "\n",
        "b1 = 1599\n",
        "n1 = 16500\n",
        "b2 = 1580\n",
        "n2 = 15903\n",
        "stats.binom_test(test[1], test[0], control[1] / control[0], alternative = 'greater')"
      ],
      "execution_count": 9,
      "outputs": [
        {
          "output_type": "execute_result",
          "data": {
            "text/plain": [
              "0.1519966655880118"
            ]
          },
          "metadata": {
            "tags": []
          },
          "execution_count": 9
        }
      ]
    },
    {
      "cell_type": "markdown",
      "metadata": {
        "id": "ghLWFzb1D0io"
      },
      "source": [
        "Здеьсь статистически важные результаты отсутствуют.\n",
        "\n",
        "Проверим через калькулятор: https://abtestguide.com/calc/\n",
        "\n",
        "Он тоже говорит о том, что результат не статзначимый"
      ]
    }
  ]
}