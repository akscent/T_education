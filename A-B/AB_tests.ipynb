{
  "nbformat": 4,
  "nbformat_minor": 0,
  "metadata": {
    "colab": {
      "name": "AB_tests_3.ipynb",
      "provenance": []
    },
    "kernelspec": {
      "name": "python3",
      "display_name": "Python 3"
    },
    "language_info": {
      "name": "python"
    }
  },
  "cells": [
    {
      "cell_type": "markdown",
      "metadata": {
        "id": "xV32icKK9eaM"
      },
      "source": [
        "# Задание 4\n",
        "\n",
        "Тот же сайт, но теперь тестируем следующее:\n",
        "\n",
        "в группе B (тест) предлагаем покупателям дополнительно добавить в корзину еще один товар по скидке\n",
        "контрольной группе А ничего не предлагаем.\n",
        "\n",
        "Результаты теста лежат в приложенном файле. В первой колонке флаг тестовой группы, во второй - сумма всех покупок посетителя.\n",
        "\n",
        "\n",
        "Требуется определить, есть ли статзначимое различие в распределениях на тесте и контроле с уровнем значимости alpha=0.05"
      ]
    },
    {
      "cell_type": "markdown",
      "metadata": {
        "id": "oie4zx22BsBm"
      },
      "source": [
        "На основании этого делаем вывод, что конверсия действительно упала: Zтабл > Zрасч (левосторонний критерий)"
      ]
    },
    {
      "cell_type": "code",
      "metadata": {
        "colab": {
          "base_uri": "https://localhost:8080/"
        },
        "id": "fuKkVfz2EfBs",
        "outputId": "c6195e6a-0395-44cf-b08a-711b292eaa97"
      },
      "source": [
        "!wget https://edu.tinkoff.ru/media/edu-files-ext-100/4894e5f3-00b8-48b7-8946-474b324aa2ad.xlsx"
      ],
      "execution_count": 10,
      "outputs": [
        {
          "output_type": "stream",
          "text": [
            "--2021-04-11 13:14:47--  https://edu.tinkoff.ru/media/edu-files-ext-100/4894e5f3-00b8-48b7-8946-474b324aa2ad.xlsx\n",
            "Resolving edu.tinkoff.ru (edu.tinkoff.ru)... 178.248.239.60\n",
            "Connecting to edu.tinkoff.ru (edu.tinkoff.ru)|178.248.239.60|:443... connected.\n",
            "HTTP request sent, awaiting response... 200 OK\n",
            "Length: 9338 (9.1K) [binary/octet-stream]\n",
            "Saving to: ‘4894e5f3-00b8-48b7-8946-474b324aa2ad.xlsx’\n",
            "\n",
            "4894e5f3-00b8-48b7- 100%[===================>]   9.12K  --.-KB/s    in 0s      \n",
            "\n",
            "2021-04-11 13:14:47 (244 MB/s) - ‘4894e5f3-00b8-48b7-8946-474b324aa2ad.xlsx’ saved [9338/9338]\n",
            "\n"
          ],
          "name": "stdout"
        }
      ]
    },
    {
      "cell_type": "code",
      "metadata": {
        "colab": {
          "base_uri": "https://localhost:8080/",
          "height": 399
        },
        "id": "tPBpbAaoEgeX",
        "outputId": "a0298d66-bb53-43b8-b102-08bb2c70ab91"
      },
      "source": [
        "import pandas as pd\n",
        "import matplotlib.pyplot as plt\n",
        "\n",
        "data = pd.read_excel('/content/4894e5f3-00b8-48b7-8946-474b324aa2ad.xlsx')\n",
        "data"
      ],
      "execution_count": 13,
      "outputs": [
        {
          "output_type": "execute_result",
          "data": {
            "text/html": [
              "<div>\n",
              "<style scoped>\n",
              "    .dataframe tbody tr th:only-of-type {\n",
              "        vertical-align: middle;\n",
              "    }\n",
              "\n",
              "    .dataframe tbody tr th {\n",
              "        vertical-align: top;\n",
              "    }\n",
              "\n",
              "    .dataframe thead th {\n",
              "        text-align: right;\n",
              "    }\n",
              "</style>\n",
              "<table border=\"1\" class=\"dataframe\">\n",
              "  <thead>\n",
              "    <tr style=\"text-align: right;\">\n",
              "      <th></th>\n",
              "      <th>Группа</th>\n",
              "      <th>Значение</th>\n",
              "    </tr>\n",
              "  </thead>\n",
              "  <tbody>\n",
              "    <tr>\n",
              "      <th>0</th>\n",
              "      <td>А</td>\n",
              "      <td>1499</td>\n",
              "    </tr>\n",
              "    <tr>\n",
              "      <th>1</th>\n",
              "      <td>А</td>\n",
              "      <td>1499</td>\n",
              "    </tr>\n",
              "    <tr>\n",
              "      <th>2</th>\n",
              "      <td>А</td>\n",
              "      <td>1099</td>\n",
              "    </tr>\n",
              "    <tr>\n",
              "      <th>3</th>\n",
              "      <td>А</td>\n",
              "      <td>1099</td>\n",
              "    </tr>\n",
              "    <tr>\n",
              "      <th>4</th>\n",
              "      <td>А</td>\n",
              "      <td>109</td>\n",
              "    </tr>\n",
              "    <tr>\n",
              "      <th>...</th>\n",
              "      <td>...</td>\n",
              "      <td>...</td>\n",
              "    </tr>\n",
              "    <tr>\n",
              "      <th>100</th>\n",
              "      <td>B</td>\n",
              "      <td>109</td>\n",
              "    </tr>\n",
              "    <tr>\n",
              "      <th>101</th>\n",
              "      <td>B</td>\n",
              "      <td>299</td>\n",
              "    </tr>\n",
              "    <tr>\n",
              "      <th>102</th>\n",
              "      <td>B</td>\n",
              "      <td>1099</td>\n",
              "    </tr>\n",
              "    <tr>\n",
              "      <th>103</th>\n",
              "      <td>B</td>\n",
              "      <td>109</td>\n",
              "    </tr>\n",
              "    <tr>\n",
              "      <th>104</th>\n",
              "      <td>B</td>\n",
              "      <td>109</td>\n",
              "    </tr>\n",
              "  </tbody>\n",
              "</table>\n",
              "<p>105 rows × 2 columns</p>\n",
              "</div>"
            ],
            "text/plain": [
              "    Группа  Значение\n",
              "0        А      1499\n",
              "1        А      1499\n",
              "2        А      1099\n",
              "3        А      1099\n",
              "4        А       109\n",
              "..     ...       ...\n",
              "100      B       109\n",
              "101      B       299\n",
              "102      B      1099\n",
              "103      B       109\n",
              "104      B       109\n",
              "\n",
              "[105 rows x 2 columns]"
            ]
          },
          "metadata": {
            "tags": []
          },
          "execution_count": 13
        }
      ]
    },
    {
      "cell_type": "code",
      "metadata": {
        "colab": {
          "base_uri": "https://localhost:8080/",
          "height": 303
        },
        "id": "866VlA6hFGzJ",
        "outputId": "35ed6b56-adb8-460f-ccb5-3062d2048a60"
      },
      "source": [
        "%pylab inline\n",
        "data.columns = ['group', 'value']\n",
        "data['group'].replace(['А'], ['A'], inplace = True)\n",
        "\n",
        "fig, (ax1, ax2) = plt.subplots(1, 2, figsize=(15, 5))\n",
        "\n",
        "data[data.group == 'A'].hist(bins=5, ax = subplot(1,2,1))\n",
        "data[data.group == 'B'].hist(bins=5, ax = subplot(1,2,2))\n",
        "\n",
        "fig.show()"
      ],
      "execution_count": 30,
      "outputs": [
        {
          "output_type": "stream",
          "text": [
            "Populating the interactive namespace from numpy and matplotlib\n"
          ],
          "name": "stdout"
        },
        {
          "output_type": "display_data",
          "data": {
            "image/png": "[encoded data removed]",
            "text/plain": [
              "<Figure size 1080x360 with 2 Axes>"
            ]
          },
          "metadata": {
            "tags": [],
            "needs_background": "light"
          }
        }
      ]
    },
    {
      "cell_type": "markdown",
      "metadata": {
        "id": "Ynyoc3ydGfXa"
      },
      "source": [
        "Распределения не похожи на нормальные. \n",
        "\n",
        "Проверим гипотезу, вычисляя ранговый критерий Манна-Уитни для выборки, это можно сделать так же через scipy"
      ]
    },
    {
      "cell_type": "code",
      "metadata": {
        "colab": {
          "base_uri": "https://localhost:8080/"
        },
        "id": "FMPMqzuNFNjy",
        "outputId": "e3663024-aec5-4e89-e692-b9ab45534439"
      },
      "source": [
        "a = data[data.group == 'A'].value.tolist()\n",
        "b = data[data.group == 'B'].value.tolist()\n",
        "\n",
        "print(stats.mannwhitneyu(b, a, alternative ='greater'))\n",
        "print(stats.mannwhitneyu(b, a, alternative ='two-sided'))"
      ],
      "execution_count": 33,
      "outputs": [
        {
          "output_type": "stream",
          "text": [
            "MannwhitneyuResult(statistic=1426.5, pvalue=0.36074614816890277)\n",
            "MannwhitneyuResult(statistic=1426.5, pvalue=0.7214922963378055)\n"
          ],
          "name": "stdout"
        }
      ]
    },
    {
      "cell_type": "markdown",
      "metadata": {
        "id": "0SQX4o_DIGoI"
      },
      "source": [
        "Значит, различия нет"
      ]
    }
  ]
}